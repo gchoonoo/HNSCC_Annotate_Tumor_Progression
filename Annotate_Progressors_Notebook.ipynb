{
 "cells": [
  {
   "cell_type": "markdown",
   "metadata": {},
   "source": [
    "# HNSCC Progressors and NonProgressors\n",
    "\n",
    "## Annotate HNSCC TCGA Tumors as Progressors or NonProgressors\n",
    "\n",
    "### McWeeney Lab, Oregon Health & Science University\n",
    "\n",
    "** Author: Gabrielle Choonoo (choonoo@ohsu.edu) **\n",
    "\n",
    "## Introduction\n",
    "\n",
    "This is the step-by-step workflow for annotating HNSCC tumors as Progressors or NonProgressors based on clinical data from TCGA. \n",
    "\n",
    "Required Files:\n",
    "* Clinical Data (.txt): [[Can download from TCGA using this method]](https://github.com/gchoonoo/HNSCC_Clinical_Data_Notebook)\n",
    "* This notebook (Annotate_Progressors_Notebook.ipynb): [[Download here]](https://raw.githubusercontent.com/gchoonoo/HNSCC_Annotate_Tumor_Progression/master/Annotate_Progressors_Notebook.ipynb)\n",
    "\n",
    "**Note: this notebook can also be downloaded as an R script (only the code blocks seen below will be included):[[Download R script here]](https://raw.githubusercontent.com/gchoonoo/HNSCC_Annotate_Tumor_Progression/master/annotate_progressors.r)\n",
    "\n",
    "** All code is available on GitHub: [https://github.com/gchoonoo/HNSCC_Annotate_Tumor_Progression](https://github.com/gchoonoo/HNSCC_Annotate_Tumor_Progression) **"
   ]
  },
  {
   "cell_type": "markdown",
   "metadata": {},
   "source": [
    "## Annotate HNSCC Tumor Progressors and NonProgressors"
   ]
  },
  {
   "cell_type": "markdown",
   "metadata": {},
   "source": [
    "### Original criteria: Patients were first classified as progressor or nonprogressor based on follow-up annotation, specifically the presence or absence of a new tumor event. We required annotation to confirm the tumor event (days to new tumor and/or new tumor anatomical location). All patients were required to have treatment annotation in addition to the follow-up data. https://www.ncbi.nlm.nih.gov/pubmed/26747525"
   ]
  },
  {
   "cell_type": "markdown",
   "metadata": {},
   "source": [
    "# Read in cleaned clinical data"
   ]
  },
  {
   "cell_type": "code",
   "execution_count": null,
   "metadata": {
    "collapsed": true
   },
   "outputs": [],
   "source": [
    "read.delim(file=\"raw_clinical_data.txt\", sep=\"\\t\", header=T, stringsAsFactors = F) -> hnsc_data"
   ]
  },
  {
   "cell_type": "markdown",
   "metadata": {},
   "source": [
    "# Add new column for annotation"
   ]
  },
  {
   "cell_type": "code",
   "execution_count": null,
   "metadata": {
    "collapsed": true
   },
   "outputs": [],
   "source": [
    "hnsc_data$Progression_FINAL_new = NA"
   ]
  },
  {
   "cell_type": "markdown",
   "metadata": {},
   "source": [
    "### Criteria:\n",
    "\n",
    "### Progressor if they had any one of these (all occurrences of these columns v1-6):\n",
    "* \"days_to_new_tumor_event_after_initial_treatment\" not NA\n",
    "* \"new_tumor_event_after_initial_treatment\" = YES\n",
    "* \"new_neoplasm_event_occurrence_anatomic_site\" not NA\n",
    "* \"followup_treatment_success\" = Progressive Disease or Persistent Disease\n",
    "\n",
    "### Nonprogressor if they had any one of these (all occurrences of these columns v1-6) and weren't annotated as Progressor based on above criteria:\n",
    "* \"days_to_new_tumor_event_after_initial_treatment\" = NA\n",
    "* \"new_tumor_event_after_initial_treatment\"  = NO\n",
    "* \"new_neoplasm_event_occurrence_anatomic_site\" = NA\n",
    "* \"followup_treatment_success\"  = Complete Remission/Response, Stable Disease, Partial Remission/Response, or NA"
   ]
  },
  {
   "cell_type": "code",
   "execution_count": null,
   "metadata": {
    "collapsed": true
   },
   "outputs": [],
   "source": [
    "# Observe all occurrences of the above columns:\n",
    "\n",
    "names(hnsc_data_v2)[grep(\"days_to_new_tumor_event_after_initial_treatment\", names(hnsc_data_v2))]\n",
    "\n",
    "names(hnsc_data_v2)[grep(\"new_tumor_event_after_initial_treatment\", names(hnsc_data_v2))][-grep(\"days\",names(hnsc_data_v2)[grep(\"new_tumor_event_after_initial_treatment\", names(hnsc_data_v2))])]\n",
    "\n",
    "names(hnsc_data_v2)[grep(\"new_neoplasm_event_occurrence_anatomic_site\", names(hnsc_data_v2))]\n",
    "\n",
    "names(hnsc_data_v2)[grep(\"followup_treatment_success\", names(hnsc_data_v2))]\n"
   ]
  },
  {
   "cell_type": "markdown",
   "metadata": {},
   "source": [
    "# Annotate Progressors"
   ]
  },
  {
   "cell_type": "code",
   "execution_count": null,
   "metadata": {
    "collapsed": true
   },
   "outputs": [],
   "source": [
    "hnsc_data[\n",
    "  \n",
    "  which(!is.na(hnsc_data[, \"days_to_new_tumor_event_after_initial_treatment\"]) | \n",
    "          \n",
    "          !is.na(hnsc_data[, \"days_to_new_tumor_event_after_initial_treatment1\"]) |\n",
    "          \n",
    "          !is.na(hnsc_data[, \"days_to_new_tumor_event_after_initial_treatment2\"]) |\n",
    "          \n",
    "          !is.na(hnsc_data[, \"days_to_new_tumor_event_after_initial_treatment3\"]) |\n",
    "          \n",
    "          !is.na(hnsc_data[, \"days_to_new_tumor_event_after_initial_treatment4\"]) |\n",
    "          \n",
    "          !is.na(hnsc_data[, \"days_to_new_tumor_event_after_initial_treatment5\"]) |\n",
    "          \n",
    "          hnsc_data[,\"new_tumor_event_after_initial_treatment\"] == \"YES\" | \n",
    "          \n",
    "          hnsc_data[,\"new_tumor_event_after_initial_treatment1\"] == \"YES\" |\n",
    "          \n",
    "          hnsc_data[,\"new_tumor_event_after_initial_treatment2\"] == \"YES\" |\n",
    "          \n",
    "          hnsc_data[,\"new_tumor_event_after_initial_treatment3\"] == \"YES\" |\n",
    "          \n",
    "          hnsc_data[,\"new_tumor_event_after_initial_treatment4\"] == \"YES\" |\n",
    "          \n",
    "          hnsc_data[,\"new_tumor_event_after_initial_treatment5\"] == \"YES\" |\n",
    "          \n",
    "          hnsc_data[,\"new_tumor_event_after_initial_treatment6\"] == \"YES\" |\n",
    "          \n",
    "          !is.na(hnsc_data[,\"new_neoplasm_event_occurrence_anatomic_site\"]) | \n",
    "          \n",
    "          !is.na(hnsc_data[,\"new_neoplasm_event_occurrence_anatomic_site1\"]) |  \n",
    "          \n",
    "          !is.na(hnsc_data[,\"new_neoplasm_event_occurrence_anatomic_site2\"]) |\n",
    "          \n",
    "          !is.na(hnsc_data[,\"new_neoplasm_event_occurrence_anatomic_site3\"]) |\n",
    "          \n",
    "          !is.na(hnsc_data[,\"new_neoplasm_event_occurrence_anatomic_site4\"]) |\n",
    "          \n",
    "          !is.na(hnsc_data[,\"new_neoplasm_event_occurrence_anatomic_site5\"]) |\n",
    "          \n",
    "          hnsc_data[,\"followup_treatment_success\"] == \"Progressive Disease\" | \n",
    "          \n",
    "          hnsc_data[,\"followup_treatment_success\"] == \"Persistent Disease\" |\n",
    "          \n",
    "          hnsc_data[,\"followup_treatment_success1\"] == \"Progressive Disease\" | \n",
    "          \n",
    "          hnsc_data[,\"followup_treatment_success1\"] == \"Persistent Disease\" | \n",
    "          \n",
    "          hnsc_data[,\"followup_treatment_success2\"] == \"Progressive Disease\" | \n",
    "          \n",
    "          hnsc_data[,\"followup_treatment_success2\"] == \"Persistent Disease\" |\n",
    "          \n",
    "          hnsc_data[,\"followup_treatment_success3\"] == \"Progressive Disease\" | \n",
    "          \n",
    "          hnsc_data[,\"followup_treatment_success3\"] == \"Persistent Disease\" |\n",
    "          \n",
    "          hnsc_data[,\"followup_treatment_success4\"] == \"Progressive Disease\" | \n",
    "          \n",
    "          hnsc_data[,\"followup_treatment_success4\"] == \"Persistent Disease\" |\n",
    "          \n",
    "          hnsc_data[,\"followup_treatment_success5\"] == \"Progressive Disease\" | \n",
    "          \n",
    "          hnsc_data[,\"followup_treatment_success5\"] == \"Persistent Disease\"),\n",
    "  \n",
    "  \"Progression_FINAL_new\"] <- \"Progressor\"\n"
   ]
  },
  {
   "cell_type": "markdown",
   "metadata": {},
   "source": [
    "# Annotate NonProgressors"
   ]
  },
  {
   "cell_type": "code",
   "execution_count": null,
   "metadata": {
    "collapsed": true
   },
   "outputs": [],
   "source": [
    "hnsc_data[which((\n",
    "  \n",
    "  is.na(hnsc_data[, \"days_to_new_tumor_event_after_initial_treatment\"]) | \n",
    "    \n",
    "    is.na(hnsc_data[, \"days_to_new_tumor_event_after_initial_treatment1\"]) | \n",
    "    \n",
    "    is.na(hnsc_data[, \"days_to_new_tumor_event_after_initial_treatment2\"]) | \n",
    "    \n",
    "    is.na(hnsc_data[, \"days_to_new_tumor_event_after_initial_treatment3\"]) | \n",
    "    \n",
    "    is.na(hnsc_data[, \"days_to_new_tumor_event_after_initial_treatment4\"]) | \n",
    "    \n",
    "    is.na(hnsc_data[, \"days_to_new_tumor_event_after_initial_treatment5\"]) | \n",
    "    \n",
    "    hnsc_data[,\"new_tumor_event_after_initial_treatment\"] == \"NO\" | \n",
    "    \n",
    "    hnsc_data[,\"new_tumor_event_after_initial_treatment1\"] == \"NO\" | \n",
    "    \n",
    "    hnsc_data[,\"new_tumor_event_after_initial_treatment2\"] == \"NO\" | \n",
    "    \n",
    "    hnsc_data[,\"new_tumor_event_after_initial_treatment3\"] == \"NO\" | \n",
    "    \n",
    "    hnsc_data[,\"new_tumor_event_after_initial_treatment4\"] == \"NO\" | \n",
    "    \n",
    "    hnsc_data[,\"new_tumor_event_after_initial_treatment5\"] == \"NO\" | \n",
    "    \n",
    "    hnsc_data[,\"new_tumor_event_after_initial_treatment6\"] == \"NO\" | \n",
    "    \n",
    "    is.na(hnsc_data[,\"new_neoplasm_event_occurrence_anatomic_site\"]) | \n",
    "    \n",
    "    is.na(hnsc_data[,\"new_neoplasm_event_occurrence_anatomic_site1\"]) | \n",
    "    \n",
    "    is.na(hnsc_data[,\"new_neoplasm_event_occurrence_anatomic_site2\"]) | \n",
    "    \n",
    "    is.na(hnsc_data[,\"new_neoplasm_event_occurrence_anatomic_site3\"]) | \n",
    "    \n",
    "    is.na(hnsc_data[,\"new_neoplasm_event_occurrence_anatomic_site4\"]) | \n",
    "    \n",
    "    is.na(hnsc_data[,\"new_neoplasm_event_occurrence_anatomic_site5\"]) | \n",
    "    \n",
    "    hnsc_data[,\"followup_treatment_success\"] == \"Complete Remission/Response\" |\n",
    "    \n",
    "    hnsc_data[,\"followup_treatment_success\"] == \"Stable Disease\" | \n",
    "    \n",
    "    hnsc_data[,\"followup_treatment_success\"] == \"Partial Remission/Response\" | \n",
    "    \n",
    "    is.na(hnsc_data[,\"followup_treatment_success\"]) |\n",
    "    \n",
    "    hnsc_data[,\"followup_treatment_success1\"] == \"Complete Remission/Response\" |\n",
    "    \n",
    "    hnsc_data[,\"followup_treatment_success1\"] == \"Stable Disease\" | \n",
    "    \n",
    "    hnsc_data[,\"followup_treatment_success1\"] == \"Partial Remission/Response\" | \n",
    "    \n",
    "    is.na(hnsc_data[,\"followup_treatment_success1\"]) |\n",
    "    \n",
    "    hnsc_data[,\"followup_treatment_success2\"] == \"Complete Remission/Response\" |\n",
    "    \n",
    "    hnsc_data[,\"followup_treatment_success2\"] == \"Stable Disease\" | \n",
    "    \n",
    "    hnsc_data[,\"followup_treatment_success2\"] == \"Partial Remission/Response\" | \n",
    "    \n",
    "    is.na(hnsc_data[,\"followup_treatment_success2\"]) |\n",
    "    \n",
    "    hnsc_data[,\"followup_treatment_success3\"] == \"Complete Remission/Response\" |\n",
    "    \n",
    "    hnsc_data[,\"followup_treatment_success3\"] == \"Stable Disease\" | \n",
    "    \n",
    "    hnsc_data[,\"followup_treatment_success3\"] == \"Partial Remission/Response\" | \n",
    "    \n",
    "    is.na(hnsc_data[,\"followup_treatment_success3\"]) |\n",
    "    \n",
    "    hnsc_data[,\"followup_treatment_success4\"] == \"Complete Remission/Response\" |\n",
    "    \n",
    "    hnsc_data[,\"followup_treatment_success4\"] == \"Stable Disease\" | \n",
    "    \n",
    "    hnsc_data[,\"followup_treatment_success4\"] == \"Partial Remission/Response\" | \n",
    "    \n",
    "    is.na(hnsc_data[,\"followup_treatment_success4\"]) |\n",
    "    \n",
    "    hnsc_data[,\"followup_treatment_success5\"] == \"Complete Remission/Response\" |\n",
    "    \n",
    "    hnsc_data[,\"followup_treatment_success5\"] == \"Stable Disease\" | \n",
    "    \n",
    "    hnsc_data[,\"followup_treatment_success5\"] == \"Partial Remission/Response\" | \n",
    "    \n",
    "    is.na(hnsc_data[,\"followup_treatment_success5\"])) & is.na(hnsc_data[,\"Progression_FINAL_new\"])),\"Progression_FINAL_new\"] <- \"NonProgressor\""
   ]
  },
  {
   "cell_type": "markdown",
   "metadata": {},
   "source": [
    "# Save data"
   ]
  },
  {
   "cell_type": "code",
   "execution_count": null,
   "metadata": {
    "collapsed": true
   },
   "outputs": [],
   "source": [
    "write.table(file=\"clinical_data_annotated.txt\", x=hnsc_data, sep=\"\\t\", quote=F, row.names=F)"
   ]
  }
 ],
 "metadata": {
  "anaconda-cloud": {},
  "kernelspec": {
   "display_name": "R",
   "language": "R",
   "name": "ir"
  },
  "language_info": {
   "codemirror_mode": "r",
   "file_extension": ".r",
   "mimetype": "text/x-r-source",
   "name": "R",
   "pygments_lexer": "r",
   "version": "3.2.2"
  }
 },
 "nbformat": 4,
 "nbformat_minor": 1
}
