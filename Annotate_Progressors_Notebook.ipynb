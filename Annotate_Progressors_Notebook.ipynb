{
 "cells": [
  {
   "cell_type": "markdown",
   "metadata": {},
   "source": [
    "# HNSCC Progressors and NonProgressors\n",
    "\n",
    "## Annotate HNSCC TCGA Tumors as Progressors or NonProgressors\n",
    "\n",
    "### McWeeney Lab, Oregon Health & Science University\n",
    "\n",
    "** Author: Gabrielle Choonoo (choonoo@ohsu.edu) **\n",
    "\n",
    "## Introduction\n",
    "\n",
    "This is the step-by-step workflow for annotating HNSCC tumors as Progressors or NonProgressors based on clinical data from TCGA. \n",
    "\n",
    "Required Files:\n",
    "* Clinical Data (.txt): [[Can download from TCGA using this method]](https://github.com/gchoonoo/HNSCC_Clinical_Data_Notebook)\n",
    "* This notebook (Annotate_Progressors_Notebook.ipynb): [[Download here]](https://raw.githubusercontent.com/gchoonoo/HNSCC_Annotate_Tumor_Progression/master/Annotate_Progressors_Notebook.ipynb)\n",
    "\n",
    "**Note: this notebook can also be downloaded as an R script (only the code blocks seen below will be included):[[Download R script here]](https://raw.githubusercontent.com/gchoonoo/HNSCC_Annotate_Tumor_Progression/master/annotate_progressors.r)\n",
    "\n",
    "** All code is available on GitHub: [https://github.com/gchoonoo/HNSCC_Annotate_Tumor_Progression](https://github.com/gchoonoo/HNSCC_Annotate_Tumor_Progression) **"
   ]
  },
  {
   "cell_type": "markdown",
   "metadata": {},
   "source": [
    "## Annotate HNSCC Tumor Progressors and NonProgressors"
   ]
  },
  {
   "cell_type": "markdown",
   "metadata": {},
   "source": [
    "### Original criteria: Patients were first classified as progressor or nonprogressor based on follow-up annotation, specifically the presence or absence of a new tumor event. We required annotation to confirm the tumor event (days to new tumor and/or new tumor anatomical location). All patients were required to have treatment annotation in addition to the follow-up data. https://www.ncbi.nlm.nih.gov/pubmed/26747525"
   ]
  },
  {
   "cell_type": "markdown",
   "metadata": {},
   "source": [
    "# Read in cleaned clinical data"
   ]
  },
  {
   "cell_type": "code",
   "execution_count": null,
   "metadata": {
    "collapsed": true
   },
   "outputs": [],
   "source": [
    "read.delim(file=\"raw_clinical_data.txt\", sep=\"\\t\", header=T, stringsAsFactors = F) -> hnsc_data"
   ]
  },
  {
   "cell_type": "markdown",
   "metadata": {},
   "source": [
    "# Add new column for annotation"
   ]
  },
  {
   "cell_type": "code",
   "execution_count": null,
   "metadata": {
    "collapsed": true
   },
   "outputs": [],
   "source": [
    "hnsc_data$Progression_FINAL_new = NA"
   ]
  },
  {
   "cell_type": "markdown",
   "metadata": {},
   "source": [
    "### Criteria:\n",
    "\n",
    "### Progressor if they had any one of these:\n",
    "* \"days_to_new_tumor_event_after_initial_treatment\" not NA\n",
    "* \"new_tumor_event_after_initial_treatment\" = YES\n",
    "* \"new_neoplasm_event_occurrence_anatomic_site\" not NA\n",
    "* \"followup_treatment_success\" = Progressive Disease or Persistent Disease\n",
    "\n",
    "### Nonprogressor if they had any one of these and weren't annotated as Progressor based on above criteria:\n",
    "* \"days_to_new_tumor_event_after_initial_treatment\" = NA\n",
    "* \"new_tumor_event_after_initial_treatment\"  = NO\n",
    "* \"new_neoplasm_event_occurrence_anatomic_site\" = NA\n",
    "* \"followup_treatment_success\"  = Complete Remission/Response, Stable Disease, Partial Remission/Response, or NA"
   ]
  },
  {
   "cell_type": "markdown",
   "metadata": {},
   "source": [
    "# Annotate Progressors"
   ]
  },
  {
   "cell_type": "code",
   "execution_count": null,
   "metadata": {
    "collapsed": true
   },
   "outputs": [],
   "source": [
    "hnsc_data[which(!is.na(hnsc_data[, \"days_to_new_tumor_event_after_initial_treatment\"]) | hnsc_data[,\"new_tumor_event_after_initial_treatment\"] == \"YES\" | !is.na(hnsc_data[,\"new_neoplasm_event_occurrence_anatomic_site\"]) | hnsc_data[,\"followup_treatment_success\"] == \"Progressive Disease\" | hnsc_data[,\"followup_treatment_success\"] == \"Persistent Disease\"),\"Progression_FINAL_new\"] <- \"Progressor\""
   ]
  },
  {
   "cell_type": "markdown",
   "metadata": {},
   "source": [
    "# Annotate NonProgressors"
   ]
  },
  {
   "cell_type": "code",
   "execution_count": null,
   "metadata": {
    "collapsed": true
   },
   "outputs": [],
   "source": [
    "hnsc_data[which((is.na(hnsc_data[, \"days_to_new_tumor_event_after_initial_treatment\"]) | hnsc_data[,\"new_tumor_event_after_initial_treatment\"] == \"NO\" | is.na(hnsc_data[,\"new_neoplasm_event_occurrence_anatomic_site\"]) | hnsc_data[,\"followup_treatment_success\"] == \"Complete Remission/Response\" | hnsc_data[,\"followup_treatment_success\"] == \"Stable Disease\" | hnsc_data[,\"followup_treatment_success\"] == \"Partial Remission/Response\" | is.na(hnsc_data[,\"followup_treatment_success\"])) & is.na(hnsc_data[,\"Progression_FINAL_new\"])),\"Progression_FINAL_new\"] <- \"NonProgressor\""
   ]
  },
  {
   "cell_type": "markdown",
   "metadata": {},
   "source": [
    "# Save data"
   ]
  },
  {
   "cell_type": "code",
   "execution_count": null,
   "metadata": {
    "collapsed": true
   },
   "outputs": [],
   "source": [
    "write.table(file=\"clinical_data_annotated.txt\", x=hnsc_data, sep=\"\\t\", quote=F, row.names=F)"
   ]
  }
 ],
 "metadata": {
  "anaconda-cloud": {},
  "kernelspec": {
   "display_name": "R",
   "language": "R",
   "name": "ir"
  },
  "language_info": {
   "codemirror_mode": "r",
   "file_extension": ".r",
   "mimetype": "text/x-r-source",
   "name": "R",
   "pygments_lexer": "r",
   "version": "3.2.2"
  }
 },
 "nbformat": 4,
 "nbformat_minor": 1
}
